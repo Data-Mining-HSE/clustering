{
 "cells": [
  {
   "cell_type": "code",
   "execution_count": null,
   "metadata": {},
   "outputs": [],
   "source": [
    "from functools import partial\n",
    "from pathlib import Path\n",
    "\n",
    "import networkx as nx\n",
    "import pandas as pd\n",
    "from sklearn.metrics.pairwise import distance_metrics\n",
    "from tabulate import tabulate\n",
    "\n",
    "from src.clustering import get_agglomerative, get_em, get_kmeans, get_spectral\n",
    "from src.compare import pairwice_rand_score\n",
    "from src.num_clusters.elbow_rule import elbow_rule\n",
    "from src.num_clusters.silhouette_method import silhouette_method\n",
    "from src.utils import convert_distance_to_similarity"
   ]
  },
  {
   "cell_type": "code",
   "execution_count": null,
   "metadata": {},
   "outputs": [],
   "source": [
    "x_path = Path('data/X_4_1.xlsx')\n",
    "y_path = Path('data/Y_4_1.xlsx')\n",
    "\n",
    "x_data = pd.read_excel(x_path, header=None)\n",
    "y_data = pd.read_excel(y_path, header=None)"
   ]
  },
  {
   "cell_type": "markdown",
   "metadata": {},
   "source": [
    "## Distances\n",
    "\n",
    "- Euclidean\n",
    "- Cosine\n"
   ]
  },
  {
   "cell_type": "code",
   "execution_count": null,
   "metadata": {},
   "outputs": [],
   "source": [
    "distance_metrics_dict = distance_metrics()\n",
    "\n",
    "euclidean_distance_func = distance_metrics_dict['euclidean']\n",
    "cosine_distance_func = distance_metrics_dict['cosine']"
   ]
  },
  {
   "cell_type": "code",
   "execution_count": null,
   "metadata": {},
   "outputs": [],
   "source": [
    "euclidean_distance_x = euclidean_distance_func(x_data)\n",
    "cosine_distance_y = cosine_distance_func(y_data)\n",
    "\n",
    "euclidean_similarity_x = convert_distance_to_similarity(euclidean_distance_x)"
   ]
  },
  {
   "cell_type": "code",
   "execution_count": null,
   "metadata": {},
   "outputs": [],
   "source": [
    "graph = nx.from_numpy_array(cosine_distance_y)"
   ]
  },
  {
   "cell_type": "code",
   "execution_count": null,
   "metadata": {},
   "outputs": [],
   "source": [
    "nx.draw(graph)"
   ]
  },
  {
   "cell_type": "markdown",
   "metadata": {},
   "source": [
    "## Clustering algorithms\n",
    "\n",
    "- AgglomerativeClustering\n",
    "- K-Means\n",
    "- Spectral Clustering\n",
    "- Gaussian Mixture (EM)"
   ]
  },
  {
   "cell_type": "code",
   "execution_count": null,
   "metadata": {},
   "outputs": [],
   "source": [
    "get_clustering_named_list = [\n",
    "    ('Agglomerative Single Linkage', partial(get_agglomerative,\n",
    "                                             linkage='single',\n",
    "                                             matrix=euclidean_distance_x)\n",
    "    ),\n",
    "    ('KMeans', get_kmeans),\n",
    "    ('Spectral', get_spectral), # Similarity matrix must be passed to fit\n",
    "    ('EM Gaussian Mixture', get_em),\n",
    "]"
   ]
  },
  {
   "cell_type": "code",
   "execution_count": null,
   "metadata": {},
   "outputs": [],
   "source": [
    "cluster_results_dict = {}\n",
    "\n",
    "for n_clusters in [2, 3]:\n",
    "    result_dict = {}\n",
    "\n",
    "    for clustering_name, clustering_getter in get_clustering_named_list:\n",
    "        clustering = clustering_getter(n_clusters=n_clusters)\n",
    "        result = clustering.fit_predict(x_data) if clustering_name != 'Spectral' \\\n",
    "                                                else clustering.fit_predict(euclidean_distance_x)\n",
    "        result_dict[clustering_name] = result\n",
    "    cluster_results_dict[n_clusters] = result_dict"
   ]
  },
  {
   "cell_type": "code",
   "execution_count": null,
   "metadata": {},
   "outputs": [],
   "source": [
    "for num_clusters, result_dict in cluster_results_dict.items():\n",
    "    table = pairwice_rand_score(result_dict)\n",
    "    print(f'Num Clusters Is {num_clusters}\\n', tabulate(table, headers='keys', tablefmt='psql'))"
   ]
  },
  {
   "cell_type": "markdown",
   "metadata": {},
   "source": [
    "## Number of clusters\n",
    "\n",
    "- The elbow rule\n",
    "- The Silhouette Method"
   ]
  },
  {
   "cell_type": "code",
   "execution_count": null,
   "metadata": {},
   "outputs": [],
   "source": [
    "elbow_rule(cosine_distance_y, 10)\n",
    "pass"
   ]
  },
  {
   "cell_type": "code",
   "execution_count": null,
   "metadata": {},
   "outputs": [],
   "source": [
    "silhouette_method(cosine_distance_y, 10)\n",
    "pass"
   ]
  },
  {
   "cell_type": "code",
   "execution_count": null,
   "metadata": {},
   "outputs": [],
   "source": []
  }
 ],
 "metadata": {
  "kernelspec": {
   "display_name": "venv",
   "language": "python",
   "name": "python3"
  },
  "language_info": {
   "codemirror_mode": {
    "name": "ipython",
    "version": 3
   },
   "file_extension": ".py",
   "mimetype": "text/x-python",
   "name": "python",
   "nbconvert_exporter": "python",
   "pygments_lexer": "ipython3",
   "version": "3.11.6"
  }
 },
 "nbformat": 4,
 "nbformat_minor": 2
}
