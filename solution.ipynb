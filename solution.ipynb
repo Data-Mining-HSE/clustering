{
 "cells": [
  {
   "cell_type": "code",
   "execution_count": 1,
   "metadata": {},
   "outputs": [
    {
     "ename": "ImportError",
     "evalue": "cannot import name 'pairwise_rand_score' from 'src.compare' (/Users/alexgiving/Documents/iad/clustering/src/compare.py)",
     "output_type": "error",
     "traceback": [
      "\u001b[0;31m---------------------------------------------------------------------------\u001b[0m",
      "\u001b[0;31mImportError\u001b[0m                               Traceback (most recent call last)",
      "Cell \u001b[0;32mIn[1], line 10\u001b[0m\n\u001b[1;32m      8\u001b[0m \u001b[38;5;28;01mfrom\u001b[39;00m \u001b[38;5;21;01msrc\u001b[39;00m\u001b[38;5;21;01m.\u001b[39;00m\u001b[38;5;21;01mnum_clusters\u001b[39;00m\u001b[38;5;21;01m.\u001b[39;00m\u001b[38;5;21;01msilhouette_method\u001b[39;00m \u001b[38;5;28;01mimport\u001b[39;00m silhouette_method\n\u001b[1;32m      9\u001b[0m \u001b[38;5;28;01mfrom\u001b[39;00m \u001b[38;5;21;01msrc\u001b[39;00m\u001b[38;5;21;01m.\u001b[39;00m\u001b[38;5;21;01mutils\u001b[39;00m \u001b[38;5;28;01mimport\u001b[39;00m convert_distance_to_similarity\n\u001b[0;32m---> 10\u001b[0m \u001b[38;5;28;01mfrom\u001b[39;00m \u001b[38;5;21;01msrc\u001b[39;00m\u001b[38;5;21;01m.\u001b[39;00m\u001b[38;5;21;01mexperiment\u001b[39;00m \u001b[38;5;28;01mimport\u001b[39;00m experiment\n",
      "File \u001b[0;32m~/Documents/iad/clustering/src/experiment.py:11\u001b[0m\n\u001b[1;32m      8\u001b[0m \u001b[38;5;28;01mfrom\u001b[39;00m \u001b[38;5;21;01mtabulate\u001b[39;00m \u001b[38;5;28;01mimport\u001b[39;00m tabulate\n\u001b[1;32m     10\u001b[0m \u001b[38;5;28;01mfrom\u001b[39;00m \u001b[38;5;21;01msrc\u001b[39;00m\u001b[38;5;21;01m.\u001b[39;00m\u001b[38;5;21;01mclustering\u001b[39;00m \u001b[38;5;28;01mimport\u001b[39;00m get_agglomerative, get_em, get_kmeans, get_spectral\n\u001b[0;32m---> 11\u001b[0m \u001b[38;5;28;01mfrom\u001b[39;00m \u001b[38;5;21;01msrc\u001b[39;00m\u001b[38;5;21;01m.\u001b[39;00m\u001b[38;5;21;01mcompare\u001b[39;00m \u001b[38;5;28;01mimport\u001b[39;00m pairwise_ami_score, pairwise_rand_score\n\u001b[1;32m     14\u001b[0m \u001b[38;5;28;01mdef\u001b[39;00m \u001b[38;5;21mexperiment\u001b[39m(data: pd\u001b[38;5;241m.\u001b[39mDataFrame, clusters_list: \u001b[38;5;28mlist\u001b[39m[\u001b[38;5;28mint\u001b[39m], data_name: \u001b[38;5;28mstr\u001b[39m,\n\u001b[1;32m     15\u001b[0m                linkage: \u001b[38;5;28mstr\u001b[39m, agglomerative_matrix: NDArray[np\u001b[38;5;241m.\u001b[39mfloat32], similarity_matrix: NDArray[np\u001b[38;5;241m.\u001b[39mfloat32]):\n\u001b[1;32m     16\u001b[0m     \u001b[38;5;28mprint\u001b[39m(\u001b[38;5;124mf\u001b[39m\u001b[38;5;124m'\u001b[39m\u001b[38;5;124mExperiments with \u001b[39m\u001b[38;5;132;01m{\u001b[39;00mdata_name\u001b[38;5;132;01m}\u001b[39;00m\u001b[38;5;130;01m\\n\u001b[39;00m\u001b[38;5;124m'\u001b[39m)\n",
      "\u001b[0;31mImportError\u001b[0m: cannot import name 'pairwise_rand_score' from 'src.compare' (/Users/alexgiving/Documents/iad/clustering/src/compare.py)"
     ]
    }
   ],
   "source": [
    "from pathlib import Path\n",
    "\n",
    "import networkx as nx\n",
    "import pandas as pd\n",
    "from sklearn.metrics.pairwise import distance_metrics\n",
    "\n",
    "from src.num_clusters.elbow_rule import elbow_rule\n",
    "from src.num_clusters.silhouette_method import silhouette_method\n",
    "from src.utils import convert_distance_to_similarity\n",
    "from src.experiment import experiment"
   ]
  },
  {
   "cell_type": "code",
   "execution_count": null,
   "metadata": {},
   "outputs": [],
   "source": [
    "x_path = Path('data/X_4_1.xlsx')\n",
    "y_path = Path('data/Y_4_1.xlsx')\n",
    "\n",
    "x_data = pd.read_excel(x_path, header=None)\n",
    "y_data = pd.read_excel(y_path, header=None)"
   ]
  },
  {
   "cell_type": "markdown",
   "metadata": {},
   "source": [
    "## Distances\n",
    "\n",
    "- Euclidean\n",
    "- Cosine\n"
   ]
  },
  {
   "cell_type": "code",
   "execution_count": null,
   "metadata": {},
   "outputs": [],
   "source": [
    "distance_metrics_dict = distance_metrics()\n",
    "\n",
    "euclidean_distance_func = distance_metrics_dict['euclidean']\n",
    "cosine_distance_func = distance_metrics_dict['cosine']"
   ]
  },
  {
   "cell_type": "code",
   "execution_count": null,
   "metadata": {},
   "outputs": [],
   "source": [
    "euclidean_distance_x = euclidean_distance_func(x_data)\n",
    "cosine_distance_y = cosine_distance_func(y_data)\n",
    "\n",
    "euclidean_similarity_x = convert_distance_to_similarity(euclidean_distance_x)\n",
    "cosine_similarity_y = convert_distance_to_similarity(cosine_distance_y)"
   ]
  },
  {
   "cell_type": "code",
   "execution_count": null,
   "metadata": {},
   "outputs": [],
   "source": [
    "nx.draw(nx.from_numpy_array(cosine_distance_y[:10, :10]))"
   ]
  },
  {
   "cell_type": "markdown",
   "metadata": {},
   "source": [
    "## Clustering algorithms\n",
    "\n",
    "- AgglomerativeClustering\n",
    "- K-Means\n",
    "- Spectral Clustering\n",
    "- Gaussian Mixture (EM)"
   ]
  },
  {
   "cell_type": "markdown",
   "metadata": {},
   "source": [
    "## Experiments with data X"
   ]
  },
  {
   "cell_type": "code",
   "execution_count": null,
   "metadata": {},
   "outputs": [],
   "source": [
    "experiment(data=x_data,\n",
    "           clusters_list=[2,3],\n",
    "           data_name='Data X',\n",
    "           linkage='single',\n",
    "           agglomerative_matrix=euclidean_distance_x,\n",
    "           similarity_matrix=euclidean_similarity_x)\n",
    "\n",
    "fig = elbow_rule(x_data, 10)\n",
    "silhouette_method(x_data, 10)\n",
    "pass"
   ]
  },
  {
   "cell_type": "markdown",
   "metadata": {},
   "source": [
    "## Experiments with data Y"
   ]
  },
  {
   "cell_type": "code",
   "execution_count": null,
   "metadata": {},
   "outputs": [],
   "source": [
    "experiment(data=y_data,\n",
    "           clusters_list=[2,3],\n",
    "           data_name='Data Y',\n",
    "           linkage='complete',\n",
    "           agglomerative_matrix=cosine_distance_y,\n",
    "           similarity_matrix=cosine_similarity_y)\n",
    "\n",
    "fig = elbow_rule(y_data, 10)\n",
    "silhouette_method(y_data, 10)\n",
    "pass"
   ]
  }
 ],
 "metadata": {
  "kernelspec": {
   "display_name": "venv",
   "language": "python",
   "name": "python3"
  },
  "language_info": {
   "codemirror_mode": {
    "name": "ipython",
    "version": 3
   },
   "file_extension": ".py",
   "mimetype": "text/x-python",
   "name": "python",
   "nbconvert_exporter": "python",
   "pygments_lexer": "ipython3",
   "version": "3.11.6"
  }
 },
 "nbformat": 4,
 "nbformat_minor": 2
}
